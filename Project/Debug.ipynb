{
 "cells": [
  {
   "cell_type": "code",
   "execution_count": 2,
   "metadata": {},
   "outputs": [
    {
     "name": "stdout",
     "output_type": "stream",
     "text": [
      "[[ 0.  0.]\n",
      " [ 0.  1.]\n",
      " [ 0.  2.]\n",
      " [ 0.  3.]\n",
      " [ 0.  4.]\n",
      " [ 0.  5.]\n",
      " [ 0.  6.]\n",
      " [ 0.  7.]\n",
      " [ 0.  8.]\n",
      " [ 0.  9.]\n",
      " [ 0. 10.]\n",
      " [ 1.  1.]\n",
      " [ 1.  2.]\n",
      " [ 1.  3.]\n",
      " [ 1.  4.]\n",
      " [ 1.  5.]\n",
      " [ 1.  6.]\n",
      " [ 1.  7.]\n",
      " [ 1.  8.]\n",
      " [ 1.  9.]\n",
      " [ 1. 10.]\n",
      " [ 2.  2.]\n",
      " [ 2.  3.]\n",
      " [ 2.  4.]\n",
      " [ 2.  5.]\n",
      " [ 2.  6.]\n",
      " [ 2.  7.]\n",
      " [ 2.  8.]\n",
      " [ 2.  9.]\n",
      " [ 2. 10.]\n",
      " [ 3.  3.]\n",
      " [ 3.  4.]\n",
      " [ 3.  5.]\n",
      " [ 3.  6.]\n",
      " [ 3.  7.]\n",
      " [ 3.  8.]\n",
      " [ 3.  9.]\n",
      " [ 3. 10.]\n",
      " [ 4.  4.]\n",
      " [ 4.  5.]\n",
      " [ 4.  6.]\n",
      " [ 4.  7.]\n",
      " [ 4.  8.]\n",
      " [ 4.  9.]\n",
      " [ 4. 10.]\n",
      " [ 5.  5.]\n",
      " [ 5.  6.]\n",
      " [ 5.  7.]\n",
      " [ 5.  8.]\n",
      " [ 5.  9.]\n",
      " [ 5. 10.]\n",
      " [ 6.  6.]\n",
      " [ 6.  7.]\n",
      " [ 6.  8.]\n",
      " [ 6.  9.]\n",
      " [ 6. 10.]\n",
      " [ 7.  7.]\n",
      " [ 7.  8.]\n",
      " [ 7.  9.]\n",
      " [ 7. 10.]\n",
      " [ 8.  8.]\n",
      " [ 8.  9.]\n",
      " [ 8. 10.]\n",
      " [ 9.  9.]\n",
      " [ 9. 10.]\n",
      " [10. 10.]]\n"
     ]
    }
   ],
   "source": [
    "import numpy as np\n",
    "import Tournament as tor\n",
    "\n",
    "print(tor.getTournamentListSelf(11))"
   ]
  },
  {
   "cell_type": "code",
   "execution_count": null,
   "metadata": {},
   "outputs": [],
   "source": []
  },
  {
   "cell_type": "code",
   "execution_count": null,
   "metadata": {},
   "outputs": [],
   "source": []
  }
 ],
 "metadata": {
  "kernelspec": {
   "display_name": "Python 3",
   "language": "python",
   "name": "python3"
  },
  "language_info": {
   "codemirror_mode": {
    "name": "ipython",
    "version": 3
   },
   "file_extension": ".py",
   "mimetype": "text/x-python",
   "name": "python",
   "nbconvert_exporter": "python",
   "pygments_lexer": "ipython3",
   "version": "3.6.8"
  }
 },
 "nbformat": 4,
 "nbformat_minor": 2
}
